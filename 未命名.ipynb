{
 "cells": [
  {
   "cell_type": "code",
   "execution_count": 1,
   "id": "8092c5a6",
   "metadata": {},
   "outputs": [],
   "source": [
    "int1=345\n",
    "int2=456"
   ]
  },
  {
   "cell_type": "code",
   "execution_count": 2,
   "id": "6e011aee",
   "metadata": {},
   "outputs": [
    {
     "data": {
      "text/plain": [
       "int"
      ]
     },
     "execution_count": 2,
     "metadata": {},
     "output_type": "execute_result"
    }
   ],
   "source": [
    "type(int1)"
   ]
  },
  {
   "cell_type": "code",
   "execution_count": 3,
   "id": "dc8b6c44",
   "metadata": {},
   "outputs": [
    {
     "data": {
      "text/plain": [
       "801"
      ]
     },
     "execution_count": 3,
     "metadata": {},
     "output_type": "execute_result"
    }
   ],
   "source": [
    "int1+int2"
   ]
  },
  {
   "cell_type": "code",
   "execution_count": 4,
   "id": "2effc077",
   "metadata": {},
   "outputs": [
    {
     "data": {
      "text/plain": [
       "-111"
      ]
     },
     "execution_count": 4,
     "metadata": {},
     "output_type": "execute_result"
    }
   ],
   "source": [
    "int1-int2"
   ]
  },
  {
   "cell_type": "code",
   "execution_count": 5,
   "id": "a97185f7",
   "metadata": {},
   "outputs": [
    {
     "data": {
      "text/plain": [
       "157320"
      ]
     },
     "execution_count": 5,
     "metadata": {},
     "output_type": "execute_result"
    }
   ],
   "source": [
    "int1*int2"
   ]
  },
  {
   "cell_type": "code",
   "execution_count": null,
   "id": "47daa557",
   "metadata": {},
   "outputs": [],
   "source": []
  },
  {
   "cell_type": "code",
   "execution_count": 6,
   "id": "7fe9da3d",
   "metadata": {},
   "outputs": [],
   "source": [
    "float1=345.0"
   ]
  },
  {
   "cell_type": "code",
   "execution_count": 7,
   "id": "e3d3383b",
   "metadata": {},
   "outputs": [],
   "source": [
    "float2=456.0"
   ]
  },
  {
   "cell_type": "code",
   "execution_count": 8,
   "id": "9d97c653",
   "metadata": {},
   "outputs": [],
   "source": [
    "float3=23.456"
   ]
  },
  {
   "cell_type": "code",
   "execution_count": 9,
   "id": "a234fd74",
   "metadata": {},
   "outputs": [
    {
     "data": {
      "text/plain": [
       "float"
      ]
     },
     "execution_count": 9,
     "metadata": {},
     "output_type": "execute_result"
    }
   ],
   "source": [
    "type(float1)"
   ]
  },
  {
   "cell_type": "code",
   "execution_count": 10,
   "id": "21daf0ff",
   "metadata": {},
   "outputs": [
    {
     "data": {
      "text/plain": [
       "1.3825368655381606e+32"
      ]
     },
     "execution_count": 10,
     "metadata": {},
     "output_type": "execute_result"
    }
   ],
   "source": [
    "float3**float3"
   ]
  },
  {
   "cell_type": "code",
   "execution_count": 11,
   "id": "05c5d5c3",
   "metadata": {},
   "outputs": [
    {
     "ename": "OverflowError",
     "evalue": "(34, 'Result too large')",
     "output_type": "error",
     "traceback": [
      "\u001b[0;31m---------------------------------------------------------------------------\u001b[0m",
      "\u001b[0;31mOverflowError\u001b[0m                             Traceback (most recent call last)",
      "\u001b[0;32m/var/folders/83/jgl7y1b91zq0dyc_d3x6wwlw0000gn/T/ipykernel_86486/579264621.py\u001b[0m in \u001b[0;36m<module>\u001b[0;34m\u001b[0m\n\u001b[0;32m----> 1\u001b[0;31m \u001b[0mfloat2\u001b[0m\u001b[0;34m**\u001b[0m\u001b[0mfloat2\u001b[0m\u001b[0;34m\u001b[0m\u001b[0;34m\u001b[0m\u001b[0m\n\u001b[0m",
      "\u001b[0;31mOverflowError\u001b[0m: (34, 'Result too large')"
     ]
    }
   ],
   "source": [
    "float2**float2"
   ]
  },
  {
   "cell_type": "code",
   "execution_count": 12,
   "id": "7d56251b",
   "metadata": {},
   "outputs": [
    {
     "data": {
      "text/plain": [
       "345.0"
      ]
     },
     "execution_count": 12,
     "metadata": {},
     "output_type": "execute_result"
    }
   ],
   "source": [
    "float(int1)"
   ]
  },
  {
   "cell_type": "code",
   "execution_count": 13,
   "id": "2f43d5a2",
   "metadata": {},
   "outputs": [
    {
     "data": {
      "text/plain": [
       "345"
      ]
     },
     "execution_count": 13,
     "metadata": {},
     "output_type": "execute_result"
    }
   ],
   "source": [
    "int(float1)"
   ]
  },
  {
   "cell_type": "code",
   "execution_count": 14,
   "id": "f4c61f11",
   "metadata": {},
   "outputs": [],
   "source": [
    "comp1=2-1j"
   ]
  },
  {
   "cell_type": "code",
   "execution_count": 15,
   "id": "9f5a4790",
   "metadata": {},
   "outputs": [],
   "source": [
    "comp2=2.4-4j"
   ]
  },
  {
   "cell_type": "code",
   "execution_count": null,
   "id": "234f06bc",
   "metadata": {},
   "outputs": [],
   "source": [
    "comp3=complex(float1, float2)\n",
    "print(comp3)"
   ]
  },
  {
   "cell_type": "code",
   "execution_count": 18,
   "id": "e7e1de63",
   "metadata": {},
   "outputs": [
    {
     "data": {
      "text/plain": [
       "2.0"
      ]
     },
     "execution_count": 18,
     "metadata": {},
     "output_type": "execute_result"
    }
   ],
   "source": [
    "comp1.real"
   ]
  },
  {
   "cell_type": "code",
   "execution_count": 19,
   "id": "6c8ead2a",
   "metadata": {},
   "outputs": [
    {
     "data": {
      "text/plain": [
       "-1.0"
      ]
     },
     "execution_count": 19,
     "metadata": {},
     "output_type": "execute_result"
    }
   ],
   "source": [
    "comp1.imag"
   ]
  },
  {
   "cell_type": "code",
   "execution_count": 20,
   "id": "0471cad6",
   "metadata": {},
   "outputs": [
    {
     "name": "stdout",
     "output_type": "stream",
     "text": [
      "True\n"
     ]
    }
   ],
   "source": [
    "print(2<4)"
   ]
  },
  {
   "cell_type": "code",
   "execution_count": 23,
   "id": "35792db2",
   "metadata": {},
   "outputs": [],
   "source": [
    "string1 = 'Python makes me feel dumb'"
   ]
  },
  {
   "cell_type": "code",
   "execution_count": 24,
   "id": "e0b32011",
   "metadata": {},
   "outputs": [
    {
     "name": "stdout",
     "output_type": "stream",
     "text": [
      "['Python mak', 's m', ' f', '', 'l dumb']\n"
     ]
    }
   ],
   "source": [
    "splitstrings = string1.split('e')\n",
    "print(splitstrings)"
   ]
  },
  {
   "cell_type": "code",
   "execution_count": 25,
   "id": "bd68612c",
   "metadata": {},
   "outputs": [
    {
     "data": {
      "text/plain": [
       "'Python makes me feel dumb'"
      ]
     },
     "execution_count": 25,
     "metadata": {},
     "output_type": "execute_result"
    }
   ],
   "source": [
    "'e'.join(splitstrings)"
   ]
  },
  {
   "cell_type": "code",
   "execution_count": 1,
   "id": "66f34fdc",
   "metadata": {},
   "outputs": [],
   "source": [
    "list5 = list(range(6))"
   ]
  },
  {
   "cell_type": "code",
   "execution_count": 2,
   "id": "9c51c385",
   "metadata": {},
   "outputs": [
    {
     "data": {
      "text/plain": [
       "[0, 1, 2, 3, 4, 5]"
      ]
     },
     "execution_count": 2,
     "metadata": {},
     "output_type": "execute_result"
    }
   ],
   "source": [
    "list5"
   ]
  },
  {
   "cell_type": "code",
   "execution_count": 1,
   "id": "be4c05b4",
   "metadata": {},
   "outputs": [],
   "source": [
    "int1=345\n",
    "int2=456"
   ]
  },
  {
   "cell_type": "code",
   "execution_count": 2,
   "id": "2521177a",
   "metadata": {},
   "outputs": [
    {
     "data": {
      "text/plain": [
       "175997846325664414674033971221357038437100610683785278935124804372532066975586932193074848841571385156634464927524415914501124164662661610514792304933341562553077397208470877657944781167368395627267272569062015761487146937633581777327692566969482497081923341439823184421944047618603959085124655531858107978213756651321799166210291726016424664311769633515840340185581131690857712762884024277631256739521471900476541847916100560762473933684719315854353631007339600925268320502339335235730095754949540415189583583861365862183870169352228740643959502746221703078702615184017897811889039124393312476902627795158030130696671352952259612681608875244926028792875699055361366841804170365821665336291970970327180380937904999042038062050011114013611228895808308263958997030599603071492301938672320877599032062736501334711734635514435355967190853485482034749594613456672614497180521111036775072408110223718920315175719415479300773966855100905561678079659419062252089370289047985438776560274834904757006575847822270393011200175825049220741280560153565488787292726283534749796495191833357791865544606786478268218119460474603948083906213017968411804758943617343902587890625"
      ]
     },
     "execution_count": 2,
     "metadata": {},
     "output_type": "execute_result"
    }
   ],
   "source": [
    "int1**int2"
   ]
  },
  {
   "cell_type": "code",
   "execution_count": 3,
   "id": "d5f194b0",
   "metadata": {},
   "outputs": [],
   "source": [
    "from math import *"
   ]
  },
  {
   "cell_type": "code",
   "execution_count": 4,
   "id": "7caeecfe",
   "metadata": {},
   "outputs": [
    {
     "data": {
      "text/plain": [
       "-0.5439958173735323"
      ]
     },
     "execution_count": 4,
     "metadata": {},
     "output_type": "execute_result"
    }
   ],
   "source": [
    "sin(int1)"
   ]
  },
  {
   "cell_type": "code",
   "execution_count": 6,
   "id": "c78c22fb",
   "metadata": {},
   "outputs": [],
   "source": [
    "float1=2.0"
   ]
  },
  {
   "cell_type": "code",
   "execution_count": 7,
   "id": "15733c47",
   "metadata": {},
   "outputs": [
    {
     "data": {
      "text/plain": [
       "7.38905609893065"
      ]
     },
     "execution_count": 7,
     "metadata": {},
     "output_type": "execute_result"
    }
   ],
   "source": [
    "exp(float1)"
   ]
  },
  {
   "cell_type": "code",
   "execution_count": 8,
   "id": "a02a4781",
   "metadata": {},
   "outputs": [],
   "source": [
    "float2=1.0"
   ]
  },
  {
   "cell_type": "code",
   "execution_count": 9,
   "id": "3c5cf0dc",
   "metadata": {},
   "outputs": [
    {
     "data": {
      "text/plain": [
       "0.0"
      ]
     },
     "execution_count": 9,
     "metadata": {},
     "output_type": "execute_result"
    }
   ],
   "source": [
    "log(float2)"
   ]
  },
  {
   "cell_type": "code",
   "execution_count": 10,
   "id": "f9514acc",
   "metadata": {},
   "outputs": [],
   "source": [
    "int3=1"
   ]
  },
  {
   "cell_type": "code",
   "execution_count": 11,
   "id": "126807f8",
   "metadata": {},
   "outputs": [
    {
     "data": {
      "text/plain": [
       "0.0"
      ]
     },
     "execution_count": 11,
     "metadata": {},
     "output_type": "execute_result"
    }
   ],
   "source": [
    "log(int3)"
   ]
  },
  {
   "cell_type": "code",
   "execution_count": 13,
   "id": "f18806af",
   "metadata": {},
   "outputs": [],
   "source": [
    "complex1=123+0j"
   ]
  },
  {
   "cell_type": "code",
   "execution_count": 17,
   "id": "26715569",
   "metadata": {},
   "outputs": [],
   "source": [
    "int1=123"
   ]
  },
  {
   "cell_type": "code",
   "execution_count": 15,
   "id": "5e725c8f",
   "metadata": {},
   "outputs": [
    {
     "data": {
      "text/plain": [
       "(56088+0j)"
      ]
     },
     "execution_count": 15,
     "metadata": {},
     "output_type": "execute_result"
    }
   ],
   "source": [
    "complex1*int1"
   ]
  },
  {
   "cell_type": "code",
   "execution_count": 16,
   "id": "783114b0",
   "metadata": {},
   "outputs": [
    {
     "data": {
      "text/plain": [
       "(0.26973684210526316+0j)"
      ]
     },
     "execution_count": 16,
     "metadata": {},
     "output_type": "execute_result"
    }
   ],
   "source": [
    "complex1/int1"
   ]
  },
  {
   "cell_type": "code",
   "execution_count": 18,
   "id": "f06433cf",
   "metadata": {},
   "outputs": [
    {
     "data": {
      "text/plain": [
       "True"
      ]
     },
     "execution_count": 18,
     "metadata": {},
     "output_type": "execute_result"
    }
   ],
   "source": [
    "complex1==int1"
   ]
  },
  {
   "cell_type": "code",
   "execution_count": 19,
   "id": "1a456ea8",
   "metadata": {},
   "outputs": [],
   "source": [
    "float1=123.0"
   ]
  },
  {
   "cell_type": "code",
   "execution_count": 20,
   "id": "1f7c5764",
   "metadata": {},
   "outputs": [
    {
     "data": {
      "text/plain": [
       "True"
      ]
     },
     "execution_count": 20,
     "metadata": {},
     "output_type": "execute_result"
    }
   ],
   "source": [
    "complex1==float1"
   ]
  },
  {
   "cell_type": "code",
   "execution_count": 21,
   "id": "399751d7",
   "metadata": {},
   "outputs": [
    {
     "data": {
      "text/plain": [
       "(246+0j)"
      ]
     },
     "execution_count": 21,
     "metadata": {},
     "output_type": "execute_result"
    }
   ],
   "source": [
    "complex1+float1"
   ]
  },
  {
   "cell_type": "code",
   "execution_count": 22,
   "id": "6e51e89a",
   "metadata": {},
   "outputs": [
    {
     "data": {
      "text/plain": [
       "123.0"
      ]
     },
     "execution_count": 22,
     "metadata": {},
     "output_type": "execute_result"
    }
   ],
   "source": [
    "complex1.real"
   ]
  },
  {
   "cell_type": "code",
   "execution_count": 23,
   "id": "91bd43ed",
   "metadata": {},
   "outputs": [
    {
     "data": {
      "text/plain": [
       "0.0"
      ]
     },
     "execution_count": 23,
     "metadata": {},
     "output_type": "execute_result"
    }
   ],
   "source": [
    "complex1.imag"
   ]
  },
  {
   "cell_type": "code",
   "execution_count": 26,
   "id": "36b67d9f",
   "metadata": {},
   "outputs": [
    {
     "data": {
      "text/plain": [
       "3"
      ]
     },
     "execution_count": 26,
     "metadata": {},
     "output_type": "execute_result"
    }
   ],
   "source": [
    "2+True"
   ]
  },
  {
   "cell_type": "code",
   "execution_count": 25,
   "id": "89c0ede1",
   "metadata": {},
   "outputs": [
    {
     "data": {
      "text/plain": [
       "3"
      ]
     },
     "execution_count": 25,
     "metadata": {},
     "output_type": "execute_result"
    }
   ],
   "source": [
    "2 + True"
   ]
  },
  {
   "cell_type": "code",
   "execution_count": 27,
   "id": "e6248146",
   "metadata": {},
   "outputs": [
    {
     "data": {
      "text/plain": [
       "0"
      ]
     },
     "execution_count": 27,
     "metadata": {},
     "output_type": "execute_result"
    }
   ],
   "source": [
    "2*False"
   ]
  },
  {
   "cell_type": "code",
   "execution_count": 28,
   "id": "1a5fc184",
   "metadata": {},
   "outputs": [
    {
     "data": {
      "text/plain": [
       "True"
      ]
     },
     "execution_count": 28,
     "metadata": {},
     "output_type": "execute_result"
    }
   ],
   "source": [
    "True ^ False"
   ]
  },
  {
   "cell_type": "code",
   "execution_count": 29,
   "id": "e7aed980",
   "metadata": {},
   "outputs": [
    {
     "data": {
      "text/plain": [
       "False"
      ]
     },
     "execution_count": 29,
     "metadata": {},
     "output_type": "execute_result"
    }
   ],
   "source": [
    "3<4 ^ 2==2"
   ]
  },
  {
   "cell_type": "code",
   "execution_count": 30,
   "id": "195fcbf1",
   "metadata": {},
   "outputs": [
    {
     "data": {
      "text/plain": [
       "1"
      ]
     },
     "execution_count": 30,
     "metadata": {},
     "output_type": "execute_result"
    }
   ],
   "source": [
    "4 ^ 5"
   ]
  },
  {
   "cell_type": "code",
   "execution_count": 31,
   "id": "5dfde789",
   "metadata": {},
   "outputs": [
    {
     "data": {
      "text/plain": [
       "12"
      ]
     },
     "execution_count": 31,
     "metadata": {},
     "output_type": "execute_result"
    }
   ],
   "source": [
    "4 ^ 8"
   ]
  },
  {
   "cell_type": "code",
   "execution_count": 32,
   "id": "b1a0a83f",
   "metadata": {},
   "outputs": [
    {
     "data": {
      "text/plain": [
       "5"
      ]
     },
     "execution_count": 32,
     "metadata": {},
     "output_type": "execute_result"
    }
   ],
   "source": [
    "3^6"
   ]
  },
  {
   "cell_type": "code",
   "execution_count": 33,
   "id": "e62ed26c",
   "metadata": {},
   "outputs": [
    {
     "data": {
      "text/plain": [
       "0"
      ]
     },
     "execution_count": 33,
     "metadata": {},
     "output_type": "execute_result"
    }
   ],
   "source": [
    "1 ^ 1"
   ]
  },
  {
   "cell_type": "code",
   "execution_count": 34,
   "id": "dfdad03b",
   "metadata": {},
   "outputs": [
    {
     "data": {
      "text/plain": [
       "3"
      ]
     },
     "execution_count": 34,
     "metadata": {},
     "output_type": "execute_result"
    }
   ],
   "source": [
    "2 ^ 1"
   ]
  },
  {
   "cell_type": "code",
   "execution_count": 35,
   "id": "84c7cca4",
   "metadata": {},
   "outputs": [
    {
     "data": {
      "text/plain": [
       "1"
      ]
     },
     "execution_count": 35,
     "metadata": {},
     "output_type": "execute_result"
    }
   ],
   "source": [
    "4 ^ 5"
   ]
  },
  {
   "cell_type": "code",
   "execution_count": 36,
   "id": "9e6dc726",
   "metadata": {},
   "outputs": [
    {
     "data": {
      "text/plain": [
       "7"
      ]
     },
     "execution_count": 36,
     "metadata": {},
     "output_type": "execute_result"
    }
   ],
   "source": [
    "3 ^ 4"
   ]
  },
  {
   "cell_type": "code",
   "execution_count": 44,
   "id": "6df26796",
   "metadata": {},
   "outputs": [
    {
     "data": {
      "text/plain": [
       "'Teqikbon'"
      ]
     },
     "execution_count": 44,
     "metadata": {},
     "output_type": "execute_result"
    }
   ],
   "source": [
    "string1 = 'The quick brown fox jumps over the lazy dog'\n",
    "\n",
    "string1[0:15:2]"
   ]
  },
  {
   "cell_type": "code",
   "execution_count": 45,
   "id": "156cce93",
   "metadata": {},
   "outputs": [
    {
     "data": {
      "text/plain": [
       "'THE QUICK BROWN FOX JUMPS OVER THE LAZY DOG'"
      ]
     },
     "execution_count": 45,
     "metadata": {},
     "output_type": "execute_result"
    }
   ],
   "source": [
    "string1.upper()"
   ]
  },
  {
   "cell_type": "code",
   "execution_count": 51,
   "id": "11837abc",
   "metadata": {},
   "outputs": [],
   "source": [
    "words1=string1.split(' ')"
   ]
  },
  {
   "cell_type": "code",
   "execution_count": 52,
   "id": "73b6d7d0",
   "metadata": {},
   "outputs": [
    {
     "name": "stdout",
     "output_type": "stream",
     "text": [
      "['The', 'quick', 'brown', 'fox', 'jumps', 'over', 'the', 'lazy', 'dog']\n"
     ]
    }
   ],
   "source": [
    "print(words1)"
   ]
  },
  {
   "cell_type": "code",
   "execution_count": null,
   "id": "b7b1d84c",
   "metadata": {},
   "outputs": [],
   "source": []
  }
 ],
 "metadata": {
  "kernelspec": {
   "display_name": "Python 3 (ipykernel)",
   "language": "python",
   "name": "python3"
  },
  "language_info": {
   "codemirror_mode": {
    "name": "ipython",
    "version": 3
   },
   "file_extension": ".py",
   "mimetype": "text/x-python",
   "name": "python",
   "nbconvert_exporter": "python",
   "pygments_lexer": "ipython3",
   "version": "3.9.13"
  }
 },
 "nbformat": 4,
 "nbformat_minor": 5
}
